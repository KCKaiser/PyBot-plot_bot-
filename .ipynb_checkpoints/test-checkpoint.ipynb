{
 "cells": [
  {
   "cell_type": "code",
   "execution_count": 36,
   "metadata": {},
   "outputs": [],
   "source": [
    "target_term = \"@plot_bot\"\n",
    "tweet_text = \"@plot_bot @kc_aska whoo\"\n",
    "tweet_index = tweet_text.find(target_term)\n",
    "tweet_space = tweet_text.find(\"@\", tweet_index + 1)\n",
    "\n",
    "target_user = tweet_text[tweet_space: ]"
   ]
  },
  {
   "cell_type": "code",
   "execution_count": 37,
   "metadata": {},
   "outputs": [
    {
     "name": "stdout",
     "output_type": "stream",
     "text": [
      "@kc_aska\n"
     ]
    }
   ],
   "source": [
    "tweet_text = \"@plot_bot @kc_aska whoo\"\n",
    "tweet_index = tweet_text.find(target_term)\n",
    "tweet_space = tweet_text.find(\"@\", tweet_index + 1)\n",
    "\n",
    "if not tweet_text[tweet_space: ].find(\" \")== -1:\n",
    "    tweet_short = tweet_text[tweet_space:]\n",
    "    index_space = tweet_text[tweet_space: ].find(\" \")\n",
    "    target_user = tweet_short[:index_space]\n",
    "    print(target_user)\n",
    "    \n",
    "else:\n",
    "    target_user = tweet_text[tweet_space: ]\n",
    "    print(target_user)"
   ]
  },
  {
   "cell_type": "code",
   "execution_count": 38,
   "metadata": {},
   "outputs": [
    {
     "data": {
      "text/plain": [
       "'@kc_aska'"
      ]
     },
     "execution_count": 38,
     "metadata": {},
     "output_type": "execute_result"
    }
   ],
   "source": [
    "target_user"
   ]
  },
  {
   "cell_type": "code",
   "execution_count": null,
   "metadata": {},
   "outputs": [],
   "source": []
  }
 ],
 "metadata": {
  "kernelspec": {
   "display_name": "Python 3",
   "language": "python",
   "name": "python3"
  },
  "language_info": {
   "codemirror_mode": {
    "name": "ipython",
    "version": 3
   },
   "file_extension": ".py",
   "mimetype": "text/x-python",
   "name": "python",
   "nbconvert_exporter": "python",
   "pygments_lexer": "ipython3",
   "version": "3.6.5"
  }
 },
 "nbformat": 4,
 "nbformat_minor": 2
}
